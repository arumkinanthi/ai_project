{
 "cells": [
  {
   "cell_type": "markdown",
   "metadata": {},
   "source": [
    "Code berikut merupakan implementasi untuk melakukan transfer learning pada sebuah model jaringan saraf tiruan (neural network) menggunakan TensorFlow dan Keras.\n",
    "\n",
    "`os`: Library untuk berinteraksi dengan sistem operasi.\n",
    "\n",
    "`shutil`: Library untuk melakukan operasi manipulasi file dan direktori.\n",
    "\n",
    "`random`: Library untuk menghasilkan angka acak.\n",
    "\n",
    "`tensorflow`: Library utama untuk pembuatan dan pelatihan model jaringan saraf tiruan.\n",
    "\n",
    "`train_test_split`: Dari scikit-learn, digunakan untuk membagi dataset menjadi data pelatihan dan data pengujian.\n",
    "\n",
    "`ImageDataGenerator`: Digunakan untuk augmentasi gambar, yaitu menghasilkan variasi dari gambar-gambar pelatihan yang ada.\n",
    "\n",
    "`MobileNetV2` dan `ResNet50`: Model arsitektur yang telah dilatih sebelumnya dan dapat digunakan untuk transfer learning. Keduanya tersedia dalam TensorFlow.\n",
    "\n",
    "`Adam`: Optimizer yang umum digunakan untuk melatih model.\n",
    "\n",
    "`Dense`, `GlobalAveragePooling2D`, `Conv2D`, `MaxPooling2D`, `Flatten`: Lapisan-lapisan yang akan digunakan untuk membangun arsitektur model jaringan saraf."
   ]
  },
  {
   "cell_type": "code",
   "execution_count": 22,
   "metadata": {},
   "outputs": [],
   "source": [
    "import os\n",
    "import shutil\n",
    "import random\n",
    "import tensorflow as tf\n",
    "\n",
    "from sklearn.model_selection import train_test_split\n",
    "\n",
    "from tensorflow.keras.preprocessing.image import ImageDataGenerator\n",
    "\n",
    "from tensorflow.keras.applications import MobileNetV2\n",
    "from tensorflow.keras.applications import ResNet50\n",
    "\n",
    "from tensorflow.keras.optimizers import Adam\n",
    "from tensorflow.keras.layers import Dense, GlobalAveragePooling2D, Conv2D, MaxPooling2D, Flatten"
   ]
  },
  {
   "cell_type": "markdown",
   "metadata": {},
   "source": [
    "Code berikut merupakan code yang digunakan untuk membuat struktur direktori baru dan mengorganisir data dari dua direktori awal (`fresh_fruit_dir` dan `stale_fruit_dir`) ke dalam empat direktori baru (`train_fresh_dir`, `test_fresh_dir`, `train_stale_dir`, dan `test_stale_dir`).\n",
    "\n",
    "*Specify the directory paths*: Menentukan path dari dua direktori awal yang berisi data gambar buah segar (`fresh_fruit_dir`) dan buah basi (`stale_fruit_dir`).\n",
    "\n",
    "*Specify the new directory paths for training and testing sets*: Menentukan path untuk empat direktori baru yang akan dibuat. Ada dua direktori untuk setiap kategori buah (segar dan basi), satu untuk data pelatihan (train) dan satu lagi untuk data pengujian (test).\n",
    "\n",
    "*Create the new directories*: Membuat direktori baru menggunakan fungsi `os.makedirs`.\n",
    "Parameter `exist_ok=True` digunakan agar tidak ada error jika direktori sudah ada sebelumnya.\n",
    "Fungsi ini akan membuat seluruh path direktori yang diberikan, termasuk direktori induknya jika belum ada."
   ]
  },
  {
   "cell_type": "code",
   "execution_count": 23,
   "metadata": {},
   "outputs": [],
   "source": [
    "# Specify the directory paths\n",
    "fresh_apple_dir = 'dataset/fresh_apple'\n",
    "stale_apple_dir = 'dataset/stale_apple'\n",
    "\n",
    "# Specify the new directory paths for training and testing sets\n",
    "train_fresh_dir = 'dataset_apple/train/fresh_apple'\n",
    "test_fresh_dir = 'dataset_apple/test/fresh_apple'\n",
    "train_stale_dir = 'dataset_apple/train/stale_apple'\n",
    "test_stale_dir = 'dataset_apple/test/stale_apple'\n",
    "\n",
    "# Create the new directories\n",
    "os.makedirs(train_fresh_dir, exist_ok=True)\n",
    "os.makedirs(test_fresh_dir, exist_ok=True)\n",
    "os.makedirs(train_stale_dir, exist_ok=True)\n",
    "os.makedirs(test_stale_dir, exist_ok=True)\n"
   ]
  },
  {
   "cell_type": "markdown",
   "metadata": {},
   "source": [
    "Code berikut untuk mendefinisikan sebuah fungsi bernama `split_and_move` yang digunakan untuk membagi data menjadi set pelatihan dan pengujian, serta memindahkan file-file tersebut ke direktori yang sesuai. \n",
    "\n",
    "Fungsi ini menerima beberapa parameter: \n",
    "`original_dir`: Direktori awal yang berisi file-file yang akan dibagi.\n",
    "`train_dir`: Direktori tujuan untuk file-file set pelatihan.\n",
    "`test_dir`: Direktori tujuan untuk file-file set pengujian.\n",
    "`category`: Nama kategori atau label untuk file-file yang akan dipindahkan.\n",
    "`test_ratio`: Rasio data pengujian terhadap total data (default: 0.2 atau 20%).\n",
    "\n",
    "Menggunakan `os.listdir` untuk mendapatkan daftar semua file dalam direktori awal.\n",
    "\n",
    "Menggunakan `train_test_split` dari `scikit-learn` untuk membagi daftar file menjadi file-file pelatihan dan pengujian.\n",
    "\n",
    "Menggunakan `shutil.move` untuk memindahkan file-file pelatihan dari direktori awal ke direktori pelatihan dan pengujian.\n",
    "\n",
    "Dengan menjalankan fungsi ini, Kita dapat membagi data dalam `original_dir` ke dalam set pelatihan dan pengujian, dan memindahkan file-file tersebut ke direktori yang sesuai (`train_dir` dan `test_dir`)."
   ]
  },
  {
   "cell_type": "code",
   "execution_count": 24,
   "metadata": {},
   "outputs": [],
   "source": [
    "# Function to split and move files to training and testing sets\n",
    "def split_and_move(original_dir, train_dir, test_dir, category, test_ratio=0.2):\n",
    "    # List all files in the original directory\n",
    "    files = os.listdir(original_dir)\n",
    "    \n",
    "    # Split files into training and testing sets\n",
    "    train_files, test_files = train_test_split(files, test_size=test_ratio, random_state=42)\n",
    "    \n",
    "    # Move training files to the training directory\n",
    "    for file in train_files:\n",
    "        source_path = os.path.join(original_dir, file)\n",
    "        destination_path = os.path.join(train_dir, file)\n",
    "        shutil.move(source_path, destination_path)\n",
    "\n",
    "    # Move testing files to the testing directory\n",
    "    for file in test_files:\n",
    "        source_path = os.path.join(original_dir, file)\n",
    "        destination_path = os.path.join(test_dir, file)\n",
    "        shutil.move(source_path, destination_path)"
   ]
  },
  {
   "cell_type": "markdown",
   "metadata": {},
   "source": [
    "Code berikut menggunakan fungsi `split_and_move` yang telah didefinisikan sebelumnya untuk membagi dataset buah segar (`fresh_apple_dir`) dan dataset buah basi (`stale_apple_dir`) menjadi set pelatihan dan pengujian.\n",
    "\n",
    "Dengan menjalankan code ini, data dari dua jenis buah apel (segar dan basi) telah dibagi menjadi set pelatihan dan pengujian, dan file-file tersebut telah dipindahkan ke direktori yang sesuai. Struktur direktori yang baru dapat digunakan untuk melatih dan menguji model klasifikasi, terutama dalam konteks transfer learning menggunakan TensorFlow dan Keras."
   ]
  },
  {
   "cell_type": "markdown",
   "metadata": {},
   "source": [
    "Code berikut untuk mendefinisikan sebuah fungsi bernama `balance_data` yang digunakan untuk membuat set data yang seimbang dengan mengambil sejumlah sampel acak dari suatu direktori sumber dan menyalinnya ke direktori target. \n",
    "\n",
    "Fungsi ini menerima beberapa parameter:\n",
    "`source_dir`: Direktori sumber yang berisi file-file yang akan diambil sampelnya.\n",
    "`target_dir`: Direktori tujuan untuk menyimpan file-file sampel yang seimbang.\n",
    "`target_class`: Nama kategori atau label untuk data yang akan disalin.\n",
    "`desired_count`: Jumlah sampel yang diinginkan untuk setiap kategori.\n",
    "\n",
    "*List all files in the source directory*: Menggunakan `os.listdir` untuk mendapatkan daftar semua file dalam direktori sumber.\n",
    "\n",
    "*Shuffle the files to randomly select samples*: Menggunakan `random.shuffle` untuk mengacak urutan file-file sehingga sampel yang diambil nantinya akan bersifat acak.\n",
    "\n",
    "*Create the target directory if it doesn't exist*: Membuat direktori tujuan jika belum ada. `exist_ok=True` digunakan agar tidak ada error jika direktori sudah ada sebelumnya.\n",
    "\n",
    "*Copy a subset of files to the target directory*: Menggunakan `shutil.copy` untuk menyalin sejumlah sampel yang diinginkan dari direktori sumber ke direktori tujuan.\n",
    "\n",
    "*Print information about the balanced data*: Mencetak informasi tentang sejauh mana data telah diseimbangkan, termasuk kategori, jumlah sampel yang diinginkan, dan direktori tujuan.\n",
    "\n",
    "Fungsi ini dapat digunakan untuk menciptakan set data yang seimbang, yang seringkali diperlukan dalam konteks pembelajaran mesin agar model dapat belajar dengan baik dari setiap kategori."
   ]
  },
  {
   "cell_type": "code",
   "execution_count": 25,
   "metadata": {},
   "outputs": [],
   "source": [
    "# Split and move the fresh apple dataset\n",
    "split_and_move(fresh_apple_dir, train_fresh_dir, test_fresh_dir, 'fresh')\n",
    "\n",
    "# Split and move the stale apple dataset\n",
    "split_and_move(stale_apple_dir, train_stale_dir, test_stale_dir, 'stale')"
   ]
  },
  {
   "cell_type": "code",
   "execution_count": 26,
   "metadata": {},
   "outputs": [],
   "source": [
    "def balance_data(source_dir, target_dir, target_class, desired_count):\n",
    "    # List all files in the source directory\n",
    "    source_files = os.listdir(source_dir)\n",
    "    \n",
    "    # Shuffle the files to randomly select samples\n",
    "    random.shuffle(source_files)\n",
    "    \n",
    "    # Create the target directory if it doesn't exist\n",
    "    os.makedirs(target_dir, exist_ok=True)\n",
    "    \n",
    "    # Copy a subset of files to the target directory\n",
    "    for file_name in source_files[:desired_count]:\n",
    "        source_path = os.path.join(source_dir, file_name)\n",
    "        target_path = os.path.join(target_dir, file_name)\n",
    "        shutil.copy(source_path, target_path)\n",
    "    #Print information about the balanced data\n",
    "    print(f\"Balanced {target_class} data: {desired_count} samples copied to {target_dir}\")"
   ]
  },
  {
   "cell_type": "code",
   "execution_count": 27,
   "metadata": {},
   "outputs": [],
   "source": [
    "def balance_dataset(train_fresh_dir, test_fresh_dir, train_stale_dir, test_stale_dir):\n",
    "    # Set the desired number of samples for each class\n",
    "    desired_count = min(len(os.listdir(train_fresh_dir)), len(os.listdir(train_stale_dir)))\n",
    "    \n",
    "    # Balance the training data\n",
    "    balance_data(train_fresh_dir, 'balanced_dataset/train/fresh_fruit', 'fresh_fruit', desired_count)\n",
    "    balance_data(train_stale_dir, 'balanced_dataset/train/stale_fruit', 'stale_fruit', desired_count)\n",
    "    \n",
    "    # Balance the testing data\n",
    "    balance_data(test_fresh_dir, 'balanced_dataset/test/fresh_fruit', 'fresh_fruit', desired_count)\n",
    "    balance_data(test_stale_dir, 'balanced_dataset/test/stale_fruit', 'stale_fruit', desired_count)\n",
    "\n"
   ]
  },
  {
   "cell_type": "code",
   "execution_count": 28,
   "metadata": {},
   "outputs": [
    {
     "name": "stdout",
     "output_type": "stream",
     "text": [
      "Balanced fresh_fruit data: 442 samples copied to balanced_dataset/train/fresh_fruit\n",
      "Balanced stale_fruit data: 442 samples copied to balanced_dataset/train/stale_fruit\n",
      "Balanced fresh_fruit data: 442 samples copied to balanced_dataset/test/fresh_fruit\n",
      "Balanced stale_fruit data: 442 samples copied to balanced_dataset/test/stale_fruit\n"
     ]
    }
   ],
   "source": [
    "# Call the function to balance the dataset\n",
    "balance_dataset(train_fresh_dir, test_fresh_dir, train_stale_dir, test_stale_dir)"
   ]
  },
  {
   "cell_type": "markdown",
   "metadata": {},
   "source": [
    "# CNN"
   ]
  },
  {
   "cell_type": "code",
   "execution_count": 29,
   "metadata": {},
   "outputs": [
    {
     "name": "stdout",
     "output_type": "stream",
     "text": [
      "Found 884 images belonging to 2 classes.\n",
      "Found 223 images belonging to 2 classes.\n",
      "Epoch 1/8\n",
      "14/14 [==============================] - 24s 1s/step - loss: 2.2970 - accuracy: 0.5430 - val_loss: 2.5390 - val_accuracy: 0.5022\n",
      "Epoch 2/8\n",
      "14/14 [==============================] - 15s 1s/step - loss: 0.8237 - accuracy: 0.6346 - val_loss: 0.4052 - val_accuracy: 0.7892\n",
      "Epoch 3/8\n",
      "14/14 [==============================] - 15s 1s/step - loss: 0.4349 - accuracy: 0.8586 - val_loss: 0.2889 - val_accuracy: 0.8744\n",
      "Epoch 4/8\n",
      "14/14 [==============================] - 15s 1s/step - loss: 0.3406 - accuracy: 0.8880 - val_loss: 0.2486 - val_accuracy: 0.8924\n",
      "Epoch 5/8\n",
      "14/14 [==============================] - 15s 1s/step - loss: 0.3225 - accuracy: 0.8756 - val_loss: 0.2548 - val_accuracy: 0.8879\n",
      "Epoch 6/8\n",
      "14/14 [==============================] - 15s 1s/step - loss: 0.2859 - accuracy: 0.8925 - val_loss: 0.1652 - val_accuracy: 0.9283\n",
      "Epoch 7/8\n",
      "14/14 [==============================] - 15s 1s/step - loss: 0.2503 - accuracy: 0.9084 - val_loss: 0.1489 - val_accuracy: 0.9372\n",
      "Epoch 8/8\n",
      "14/14 [==============================] - 15s 1s/step - loss: 0.2114 - accuracy: 0.9502 - val_loss: 0.1721 - val_accuracy: 0.9372\n"
     ]
    }
   ],
   "source": [
    "TRAINING_DIR = 'balanced_dataset/train'\n",
    "train_datagen = ImageDataGenerator(rescale=1/255, brightness_range=[0, 1])\n",
    "\n",
    "train_generator = train_datagen.flow_from_directory(\n",
    "    directory=TRAINING_DIR,\n",
    "    target_size=(254, 254),\n",
    "    batch_size=64,\n",
    "    class_mode='binary'\n",
    ")\n",
    "\n",
    "VALIDATION_DIR = 'balanced_dataset/test'\n",
    "valid_datagen = ImageDataGenerator(rescale=1/255)\n",
    "\n",
    "valid_generator = valid_datagen.flow_from_directory(\n",
    "    directory=VALIDATION_DIR,\n",
    "    target_size=(254, 254),\n",
    "    batch_size=1,\n",
    "    class_mode='binary'\n",
    ")\n",
    "\n",
    "model = tf.keras.models.Sequential([\n",
    "    Conv2D(32, (3, 3), activation='relu', input_shape=(254, 254, 3)),\n",
    "    MaxPooling2D(2, 2),\n",
    "    Flatten(),\n",
    "    Dense(1, activation='sigmoid')\n",
    "])\n",
    "\n",
    "model.compile(optimizer=Adam(), loss='binary_crossentropy', metrics=['accuracy'])\n",
    "history = model.fit(train_generator, validation_data=valid_generator, epochs=8, verbose=1)\n"
   ]
  },
  {
   "cell_type": "code",
   "execution_count": 30,
   "metadata": {},
   "outputs": [],
   "source": [
    "import matplotlib.pyplot as plt\n",
    "\n",
    "def plot_history(history):\n",
    "\n",
    "    fig, axs = plt.subplots(2)\n",
    "\n",
    "    # create accuracy sublpot\n",
    "    axs[0].plot(history.history[\"accuracy\"], label=\"train accuracy\")\n",
    "    axs[0].plot(history.history[\"val_accuracy\"], label=\"test accuracy\")\n",
    "    axs[0].set_ylabel(\"Accuracy\")\n",
    "    axs[0].legend(loc=\"lower right\")\n",
    "    axs[0].set_title(\"Accuracy eval\")\n",
    "\n",
    "    # create error sublpot\n",
    "    axs[1].plot(history.history[\"loss\"], label=\"train error\")\n",
    "    axs[1].plot(history.history[\"val_loss\"], label=\"test error\")\n",
    "    axs[1].set_ylabel(\"Error\")\n",
    "    axs[1].set_xlabel(\"Epoch\")\n",
    "    axs[1].legend(loc=\"upper right\")\n",
    "    axs[1].set_title(\"Error eval\")\n",
    "    \n",
    "    plt.subplots_adjust(wspace=0.5, hspace=0.5)\n",
    "\n",
    "    plt.show()"
   ]
  },
  {
   "cell_type": "code",
   "execution_count": 31,
   "metadata": {},
   "outputs": [
    {
     "data": {
      "image/png": "[encoded data removed]",
      "text/plain": [
       "<Figure size 640x480 with 2 Axes>"
      ]
     },
     "metadata": {},
     "output_type": "display_data"
    }
   ],
   "source": [
    "plot_history(history)"
   ]
  }
 ],
 "metadata": {
  "kernelspec": {
   "display_name": "Python 3",
   "language": "python",
   "name": "python3"
  },
  "language_info": {
   "codemirror_mode": {
    "name": "ipython",
    "version": 3
   },
   "file_extension": ".py",
   "mimetype": "text/x-python",
   "name": "python",
   "nbconvert_exporter": "python",
   "pygments_lexer": "ipython3",
   "version": "3.11.4"
  }
 },
 "nbformat": 4,
 "nbformat_minor": 2
}
